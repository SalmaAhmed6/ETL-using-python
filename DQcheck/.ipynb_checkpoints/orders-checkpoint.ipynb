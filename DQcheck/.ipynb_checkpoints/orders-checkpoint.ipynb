{
 "cells": [
  {
   "cell_type": "code",
   "execution_count": 76,
   "id": "e06e0d37",
   "metadata": {},
   "outputs": [],
   "source": [
    "import pandas as pd"
   ]
  },
  {
   "cell_type": "code",
   "execution_count": 77,
   "id": "dc9a6284",
   "metadata": {},
   "outputs": [],
   "source": [
    "orders=pd.read_csv('../Landing/orders/orders.csv')"
   ]
  },
  {
   "cell_type": "code",
   "execution_count": 78,
   "id": "25e7b755",
   "metadata": {},
   "outputs": [
    {
     "data": {
      "text/html": [
       "<div>\n",
       "<style scoped>\n",
       "    .dataframe tbody tr th:only-of-type {\n",
       "        vertical-align: middle;\n",
       "    }\n",
       "\n",
       "    .dataframe tbody tr th {\n",
       "        vertical-align: top;\n",
       "    }\n",
       "\n",
       "    .dataframe thead th {\n",
       "        text-align: right;\n",
       "    }\n",
       "</style>\n",
       "<table border=\"1\" class=\"dataframe\">\n",
       "  <thead>\n",
       "    <tr style=\"text-align: right;\">\n",
       "      <th></th>\n",
       "      <th>order_id</th>\n",
       "      <th>customer_id</th>\n",
       "      <th>order_status</th>\n",
       "      <th>order_date</th>\n",
       "      <th>required_date</th>\n",
       "      <th>shipped_date</th>\n",
       "      <th>store_id</th>\n",
       "      <th>staff_id</th>\n",
       "      <th>extract_time</th>\n",
       "      <th>source</th>\n",
       "    </tr>\n",
       "  </thead>\n",
       "  <tbody>\n",
       "    <tr>\n",
       "      <th>0</th>\n",
       "      <td>1</td>\n",
       "      <td>259</td>\n",
       "      <td>4</td>\n",
       "      <td>2016-01-01</td>\n",
       "      <td>2016-01-03</td>\n",
       "      <td>2016-01-03</td>\n",
       "      <td>1</td>\n",
       "      <td>2</td>\n",
       "      <td>2024-04-30 13:07:13.382187</td>\n",
       "      <td>postgres</td>\n",
       "    </tr>\n",
       "    <tr>\n",
       "      <th>1</th>\n",
       "      <td>2</td>\n",
       "      <td>1212</td>\n",
       "      <td>4</td>\n",
       "      <td>2016-01-01</td>\n",
       "      <td>2016-01-04</td>\n",
       "      <td>2016-01-03</td>\n",
       "      <td>2</td>\n",
       "      <td>6</td>\n",
       "      <td>2024-04-30 13:07:13.382187</td>\n",
       "      <td>postgres</td>\n",
       "    </tr>\n",
       "    <tr>\n",
       "      <th>2</th>\n",
       "      <td>3</td>\n",
       "      <td>523</td>\n",
       "      <td>4</td>\n",
       "      <td>2016-01-02</td>\n",
       "      <td>2016-01-05</td>\n",
       "      <td>2016-01-03</td>\n",
       "      <td>2</td>\n",
       "      <td>7</td>\n",
       "      <td>2024-04-30 13:07:13.382187</td>\n",
       "      <td>postgres</td>\n",
       "    </tr>\n",
       "    <tr>\n",
       "      <th>3</th>\n",
       "      <td>4</td>\n",
       "      <td>175</td>\n",
       "      <td>4</td>\n",
       "      <td>2016-01-03</td>\n",
       "      <td>2016-01-04</td>\n",
       "      <td>2016-01-05</td>\n",
       "      <td>1</td>\n",
       "      <td>3</td>\n",
       "      <td>2024-04-30 13:07:13.382187</td>\n",
       "      <td>postgres</td>\n",
       "    </tr>\n",
       "    <tr>\n",
       "      <th>4</th>\n",
       "      <td>5</td>\n",
       "      <td>1324</td>\n",
       "      <td>4</td>\n",
       "      <td>2016-01-03</td>\n",
       "      <td>2016-01-06</td>\n",
       "      <td>2016-01-06</td>\n",
       "      <td>2</td>\n",
       "      <td>6</td>\n",
       "      <td>2024-04-30 13:07:13.382187</td>\n",
       "      <td>postgres</td>\n",
       "    </tr>\n",
       "  </tbody>\n",
       "</table>\n",
       "</div>"
      ],
      "text/plain": [
       "   order_id  customer_id  order_status  order_date required_date shipped_date  \\\n",
       "0         1          259             4  2016-01-01    2016-01-03   2016-01-03   \n",
       "1         2         1212             4  2016-01-01    2016-01-04   2016-01-03   \n",
       "2         3          523             4  2016-01-02    2016-01-05   2016-01-03   \n",
       "3         4          175             4  2016-01-03    2016-01-04   2016-01-05   \n",
       "4         5         1324             4  2016-01-03    2016-01-06   2016-01-06   \n",
       "\n",
       "   store_id  staff_id                extract_time    source  \n",
       "0         1         2  2024-04-30 13:07:13.382187  postgres  \n",
       "1         2         6  2024-04-30 13:07:13.382187  postgres  \n",
       "2         2         7  2024-04-30 13:07:13.382187  postgres  \n",
       "3         1         3  2024-04-30 13:07:13.382187  postgres  \n",
       "4         2         6  2024-04-30 13:07:13.382187  postgres  "
      ]
     },
     "execution_count": 78,
     "metadata": {},
     "output_type": "execute_result"
    }
   ],
   "source": [
    "orders.head()"
   ]
  },
  {
   "cell_type": "code",
   "execution_count": 95,
   "id": "d2f5cb1a",
   "metadata": {},
   "outputs": [
    {
     "name": "stdout",
     "output_type": "stream",
     "text": [
      "<class 'pandas.core.frame.DataFrame'>\n",
      "Int64Index: 1432 entries, 0 to 1477\n",
      "Data columns (total 10 columns):\n",
      " #   Column         Non-Null Count  Dtype         \n",
      "---  ------         --------------  -----         \n",
      " 0   order_id       1432 non-null   int64         \n",
      " 1   customer_id    1432 non-null   int64         \n",
      " 2   order_status   1432 non-null   int64         \n",
      " 3   order_date     1432 non-null   datetime64[ns]\n",
      " 4   required_date  1432 non-null   object        \n",
      " 5   shipped_date   1432 non-null   datetime64[ns]\n",
      " 6   store_id       1432 non-null   int64         \n",
      " 7   staff_id       1432 non-null   int64         \n",
      " 8   extract_time   1432 non-null   object        \n",
      " 9   source         1432 non-null   object        \n",
      "dtypes: datetime64[ns](2), int64(5), object(3)\n",
      "memory usage: 123.1+ KB\n"
     ]
    }
   ],
   "source": [
    "orders.info()"
   ]
  },
  {
   "cell_type": "code",
   "execution_count": 96,
   "id": "1fb8d430",
   "metadata": {},
   "outputs": [
    {
     "data": {
      "text/plain": [
       "order_id         0\n",
       "customer_id      0\n",
       "order_status     0\n",
       "order_date       0\n",
       "required_date    0\n",
       "shipped_date     0\n",
       "store_id         0\n",
       "staff_id         0\n",
       "extract_time     0\n",
       "source           0\n",
       "dtype: int64"
      ]
     },
     "execution_count": 96,
     "metadata": {},
     "output_type": "execute_result"
    }
   ],
   "source": [
    "orders.isnull().sum()"
   ]
  },
  {
   "cell_type": "code",
   "execution_count": 81,
   "id": "cec63836",
   "metadata": {},
   "outputs": [],
   "source": [
    "\n",
    "# Convert 'order_date' to datetime format if the year is between 2000 and 2024, otherwise set it to None\n",
    "orders['order_date'] = orders['order_date'].apply(lambda x: pd.to_datetime(x, format = \"%Y/%m/%d\") if int(x.split('-')[0]) >= 2000 and int(x.split('-')[0]) <= 2024 else None)\n",
    "\n",
    "# Drop rows where 'order_date' is None\n",
    "orders = orders.dropna(subset=['order_date'])\n"
   ]
  },
  {
   "cell_type": "code",
   "execution_count": 94,
   "id": "43871b38",
   "metadata": {},
   "outputs": [
    {
     "data": {
      "text/html": [
       "<div>\n",
       "<style scoped>\n",
       "    .dataframe tbody tr th:only-of-type {\n",
       "        vertical-align: middle;\n",
       "    }\n",
       "\n",
       "    .dataframe tbody tr th {\n",
       "        vertical-align: top;\n",
       "    }\n",
       "\n",
       "    .dataframe thead th {\n",
       "        text-align: right;\n",
       "    }\n",
       "</style>\n",
       "<table border=\"1\" class=\"dataframe\">\n",
       "  <thead>\n",
       "    <tr style=\"text-align: right;\">\n",
       "      <th></th>\n",
       "      <th>order_id</th>\n",
       "      <th>customer_id</th>\n",
       "      <th>order_status</th>\n",
       "      <th>order_date</th>\n",
       "      <th>required_date</th>\n",
       "      <th>shipped_date</th>\n",
       "      <th>store_id</th>\n",
       "      <th>staff_id</th>\n",
       "      <th>extract_time</th>\n",
       "      <th>source</th>\n",
       "    </tr>\n",
       "  </thead>\n",
       "  <tbody>\n",
       "    <tr>\n",
       "      <th>0</th>\n",
       "      <td>1</td>\n",
       "      <td>259</td>\n",
       "      <td>4</td>\n",
       "      <td>2016-01-01</td>\n",
       "      <td>2016-01-03</td>\n",
       "      <td>2016-01-03</td>\n",
       "      <td>1</td>\n",
       "      <td>2</td>\n",
       "      <td>2024-04-30 13:07:13.382187</td>\n",
       "      <td>postgres</td>\n",
       "    </tr>\n",
       "    <tr>\n",
       "      <th>1</th>\n",
       "      <td>2</td>\n",
       "      <td>1212</td>\n",
       "      <td>4</td>\n",
       "      <td>2016-01-01</td>\n",
       "      <td>2016-01-04</td>\n",
       "      <td>2016-01-03</td>\n",
       "      <td>2</td>\n",
       "      <td>6</td>\n",
       "      <td>2024-04-30 13:07:13.382187</td>\n",
       "      <td>postgres</td>\n",
       "    </tr>\n",
       "    <tr>\n",
       "      <th>2</th>\n",
       "      <td>3</td>\n",
       "      <td>523</td>\n",
       "      <td>4</td>\n",
       "      <td>2016-01-02</td>\n",
       "      <td>2016-01-05</td>\n",
       "      <td>2016-01-03</td>\n",
       "      <td>2</td>\n",
       "      <td>7</td>\n",
       "      <td>2024-04-30 13:07:13.382187</td>\n",
       "      <td>postgres</td>\n",
       "    </tr>\n",
       "    <tr>\n",
       "      <th>3</th>\n",
       "      <td>4</td>\n",
       "      <td>175</td>\n",
       "      <td>4</td>\n",
       "      <td>2016-01-03</td>\n",
       "      <td>2016-01-04</td>\n",
       "      <td>2016-01-05</td>\n",
       "      <td>1</td>\n",
       "      <td>3</td>\n",
       "      <td>2024-04-30 13:07:13.382187</td>\n",
       "      <td>postgres</td>\n",
       "    </tr>\n",
       "    <tr>\n",
       "      <th>4</th>\n",
       "      <td>5</td>\n",
       "      <td>1324</td>\n",
       "      <td>4</td>\n",
       "      <td>2016-01-03</td>\n",
       "      <td>2016-01-06</td>\n",
       "      <td>2016-01-06</td>\n",
       "      <td>2</td>\n",
       "      <td>6</td>\n",
       "      <td>2024-04-30 13:07:13.382187</td>\n",
       "      <td>postgres</td>\n",
       "    </tr>\n",
       "  </tbody>\n",
       "</table>\n",
       "</div>"
      ],
      "text/plain": [
       "   order_id  customer_id  order_status order_date required_date shipped_date  \\\n",
       "0         1          259             4 2016-01-01    2016-01-03   2016-01-03   \n",
       "1         2         1212             4 2016-01-01    2016-01-04   2016-01-03   \n",
       "2         3          523             4 2016-01-02    2016-01-05   2016-01-03   \n",
       "3         4          175             4 2016-01-03    2016-01-04   2016-01-05   \n",
       "4         5         1324             4 2016-01-03    2016-01-06   2016-01-06   \n",
       "\n",
       "   store_id  staff_id                extract_time    source  \n",
       "0         1         2  2024-04-30 13:07:13.382187  postgres  \n",
       "1         2         6  2024-04-30 13:07:13.382187  postgres  \n",
       "2         2         7  2024-04-30 13:07:13.382187  postgres  \n",
       "3         1         3  2024-04-30 13:07:13.382187  postgres  \n",
       "4         2         6  2024-04-30 13:07:13.382187  postgres  "
      ]
     },
     "execution_count": 94,
     "metadata": {},
     "output_type": "execute_result"
    }
   ],
   "source": [
    "orders.head()"
   ]
  },
  {
   "cell_type": "code",
   "execution_count": 93,
   "id": "39f3407c",
   "metadata": {},
   "outputs": [],
   "source": [
    "orders = orders.dropna(subset=['shipped_date'])\n",
    "\n",
    "# Convert 'shipped_date' to datetime format\n",
    "orders['shipped_date'] = orders['shipped_date'].apply(lambda x: pd.to_datetime(x, format=\"%Y-%m-%d\") if x and int(x.split('-')[0]) >= 2000 and int(x.split('-')[0]) <= 2024 else None)\n",
    "\n",
    "# Drop rows where 'shipped_date' is None\n",
    "orders = orders.dropna(subset=['shipped_date'])\n",
    "\n",
    "# Calculate the average days taken to deliver the order\n",
    "average_delivery_time = (orders['shipped_date'] - orders['order_date']).mean()\n",
    "\n",
    "# Replace null values in 'shipped_date' with the calculated average days plus the order date\n",
    "orders['shipped_date'] = orders.apply(lambda row: row['order_date'] + average_delivery_time if pd.isnull(row['shipped_date']) else row['shipped_date'], axis=1)\n"
   ]
  },
  {
   "cell_type": "code",
   "execution_count": 97,
   "id": "a70152be",
   "metadata": {},
   "outputs": [
    {
     "name": "stdout",
     "output_type": "stream",
     "text": [
      "0\n"
     ]
    }
   ],
   "source": [
    "duplicate_count = orders.duplicated().sum()\n",
    "print(duplicate_count)"
   ]
  },
  {
   "cell_type": "code",
   "execution_count": 98,
   "id": "0050a151",
   "metadata": {},
   "outputs": [
    {
     "name": "stdout",
     "output_type": "stream",
     "text": [
      "Subdirectory 'orders' created.\n",
      "CSV file saved successfully in the 'orders' subfolder within the '../staging_1' folder.\n"
     ]
    }
   ],
   "source": [
    "import os\n",
    "\n",
    "# Define the parent directory path\n",
    "parent_directory = '../staging_1'\n",
    "\n",
    "# Define the subdirectory path\n",
    "subdirectory = 'orders'\n",
    "\n",
    "# Create the parent directory if it doesn't exist\n",
    "if not os.path.exists(parent_directory):\n",
    "    os.makedirs(parent_directory)\n",
    "    print(f\"Parent directory '{parent_directory}' created.\")\n",
    "\n",
    "# Create the subdirectory if it doesn't exist\n",
    "if not os.path.exists(os.path.join(parent_directory, subdirectory)):\n",
    "    os.makedirs(os.path.join(parent_directory, subdirectory))\n",
    "    print(f\"Subdirectory '{subdirectory}' created.\")\n",
    "\n",
    "# Define the file path where you want to save the CSV file\n",
    "file_path = os.path.join(parent_directory, subdirectory, 'orders.csv')\n",
    "\n",
    "# Save the DataFrame as a CSV file\n",
    "orders.to_csv(file_path, index=False)\n",
    "\n",
    "print(f\"CSV file saved successfully in the '{subdirectory}' subfolder within the '{parent_directory}' folder.\")\n"
   ]
  },
  {
   "cell_type": "code",
   "execution_count": null,
   "id": "5d30eac1",
   "metadata": {},
   "outputs": [],
   "source": []
  }
 ],
 "metadata": {
  "kernelspec": {
   "display_name": "Python 3 (ipykernel)",
   "language": "python",
   "name": "python3"
  },
  "language_info": {
   "codemirror_mode": {
    "name": "ipython",
    "version": 3
   },
   "file_extension": ".py",
   "mimetype": "text/x-python",
   "name": "python",
   "nbconvert_exporter": "python",
   "pygments_lexer": "ipython3",
   "version": "3.9.12"
  }
 },
 "nbformat": 4,
 "nbformat_minor": 5
}
