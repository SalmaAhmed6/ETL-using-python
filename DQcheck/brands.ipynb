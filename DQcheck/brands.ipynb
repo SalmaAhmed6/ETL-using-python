{
 "cells": [
  {
   "cell_type": "code",
   "execution_count": 2,
   "id": "a993d8c2",
   "metadata": {},
   "outputs": [],
   "source": [
    "import pandas as pd"
   ]
  },
  {
   "cell_type": "code",
   "execution_count": 3,
   "id": "0e25abaf",
   "metadata": {},
   "outputs": [],
   "source": [
    "brands= pd.read_csv('../Landing/brands/brands.csv')"
   ]
  },
  {
   "cell_type": "code",
   "execution_count": 4,
   "id": "32b83a93",
   "metadata": {},
   "outputs": [
    {
     "data": {
      "text/html": [
       "<div>\n",
       "<style scoped>\n",
       "    .dataframe tbody tr th:only-of-type {\n",
       "        vertical-align: middle;\n",
       "    }\n",
       "\n",
       "    .dataframe tbody tr th {\n",
       "        vertical-align: top;\n",
       "    }\n",
       "\n",
       "    .dataframe thead th {\n",
       "        text-align: right;\n",
       "    }\n",
       "</style>\n",
       "<table border=\"1\" class=\"dataframe\">\n",
       "  <thead>\n",
       "    <tr style=\"text-align: right;\">\n",
       "      <th></th>\n",
       "      <th>brand_id</th>\n",
       "      <th>brand_name</th>\n",
       "      <th>Extract Time</th>\n",
       "      <th>Source</th>\n",
       "    </tr>\n",
       "  </thead>\n",
       "  <tbody>\n",
       "    <tr>\n",
       "      <th>0</th>\n",
       "      <td>1</td>\n",
       "      <td>Electra</td>\n",
       "      <td>2024-04-30 13:25:01.177623</td>\n",
       "      <td>datalake</td>\n",
       "    </tr>\n",
       "    <tr>\n",
       "      <th>1</th>\n",
       "      <td>2</td>\n",
       "      <td>Haro</td>\n",
       "      <td>2024-04-30 13:25:01.177623</td>\n",
       "      <td>datalake</td>\n",
       "    </tr>\n",
       "    <tr>\n",
       "      <th>2</th>\n",
       "      <td>3</td>\n",
       "      <td>Heller</td>\n",
       "      <td>2024-04-30 13:25:01.177623</td>\n",
       "      <td>datalake</td>\n",
       "    </tr>\n",
       "    <tr>\n",
       "      <th>3</th>\n",
       "      <td>4</td>\n",
       "      <td>Pure Cycles</td>\n",
       "      <td>2024-04-30 13:25:01.177623</td>\n",
       "      <td>datalake</td>\n",
       "    </tr>\n",
       "    <tr>\n",
       "      <th>4</th>\n",
       "      <td>5</td>\n",
       "      <td>Ritchey</td>\n",
       "      <td>2024-04-30 13:25:01.177623</td>\n",
       "      <td>datalake</td>\n",
       "    </tr>\n",
       "  </tbody>\n",
       "</table>\n",
       "</div>"
      ],
      "text/plain": [
       "   brand_id   brand_name                Extract Time    Source\n",
       "0         1      Electra  2024-04-30 13:25:01.177623  datalake\n",
       "1         2         Haro  2024-04-30 13:25:01.177623  datalake\n",
       "2         3       Heller  2024-04-30 13:25:01.177623  datalake\n",
       "3         4  Pure Cycles  2024-04-30 13:25:01.177623  datalake\n",
       "4         5      Ritchey  2024-04-30 13:25:01.177623  datalake"
      ]
     },
     "execution_count": 4,
     "metadata": {},
     "output_type": "execute_result"
    }
   ],
   "source": [
    "brands.head()"
   ]
  },
  {
   "cell_type": "code",
   "execution_count": 5,
   "id": "72a5c68a",
   "metadata": {},
   "outputs": [
    {
     "data": {
      "text/plain": [
       "brand_id        0\n",
       "brand_name      0\n",
       "Extract Time    0\n",
       "Source          0\n",
       "dtype: int64"
      ]
     },
     "execution_count": 5,
     "metadata": {},
     "output_type": "execute_result"
    }
   ],
   "source": [
    "brands.isnull().sum()"
   ]
  },
  {
   "cell_type": "code",
   "execution_count": 6,
   "id": "6ed8f02f",
   "metadata": {},
   "outputs": [
    {
     "name": "stdout",
     "output_type": "stream",
     "text": [
      "0\n"
     ]
    }
   ],
   "source": [
    "duplicate_count = brands.duplicated().sum()\n",
    "print(duplicate_count)"
   ]
  },
  {
   "cell_type": "code",
   "execution_count": 7,
   "id": "8b8db2f3",
   "metadata": {},
   "outputs": [
    {
     "name": "stdout",
     "output_type": "stream",
     "text": [
      "CSV file saved successfully in the 'brands' subfolder within the '../staging_1' folder.\n"
     ]
    }
   ],
   "source": [
    "import os\n",
    "\n",
    "# Define the parent directory path\n",
    "parent_directory = '../staging_1'\n",
    "\n",
    "# Define the subdirectory path\n",
    "subdirectory = 'brands'\n",
    "\n",
    "# Create the parent directory if it doesn't exist\n",
    "if not os.path.exists(parent_directory):\n",
    "    os.makedirs(parent_directory)\n",
    "    print(f\"Parent directory '{parent_directory}' created.\")\n",
    "\n",
    "# Create the subdirectory if it doesn't exist\n",
    "if not os.path.exists(os.path.join(parent_directory, subdirectory)):\n",
    "    os.makedirs(os.path.join(parent_directory, subdirectory))\n",
    "    print(f\"Subdirectory '{subdirectory}' created.\")\n",
    "\n",
    "# Define the file path where you want to save the CSV file\n",
    "file_path = os.path.join(parent_directory, subdirectory, 'brands.csv')\n",
    "\n",
    "# Save the DataFrame as a CSV file\n",
    "brands.to_csv(file_path, index=False)\n",
    "\n",
    "print(f\"CSV file saved successfully in the '{subdirectory}' subfolder within the '{parent_directory}' folder.\")\n"
   ]
  },
  {
   "cell_type": "code",
   "execution_count": null,
   "id": "862ae857",
   "metadata": {},
   "outputs": [],
   "source": []
  }
 ],
 "metadata": {
  "kernelspec": {
   "display_name": "Python 3 (ipykernel)",
   "language": "python",
   "name": "python3"
  },
  "language_info": {
   "codemirror_mode": {
    "name": "ipython",
    "version": 3
   },
   "file_extension": ".py",
   "mimetype": "text/x-python",
   "name": "python",
   "nbconvert_exporter": "python",
   "pygments_lexer": "ipython3",
   "version": "3.9.12"
  }
 },
 "nbformat": 4,
 "nbformat_minor": 5
}
