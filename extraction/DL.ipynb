{
 "cells": [
  {
   "cell_type": "code",
   "execution_count": 5,
   "id": "8b00dcc4",
   "metadata": {},
   "outputs": [],
   "source": [
    "import os\n",
    "import pandas as pd\n",
    "from datetime import datetime\n",
    "\n",
    "# Function to process CSV files recursively\n",
    "def process_csv_files_recursive(dl_folder, landing_folder):\n",
    "    for root, _, files in os.walk(dl_folder):\n",
    "        for filename in files:\n",
    "            if filename.endswith(\".csv\"):\n",
    "                file_path = os.path.join(root, filename)\n",
    "                # Read CSV file\n",
    "                df = pd.read_csv(file_path)\n",
    "                # Add columns\n",
    "                df['Extract Time'] = datetime.now()\n",
    "                df['Source'] = 'datalake'\n",
    "                # Save file with modified columns to Landing folder\n",
    "                subfolder = os.path.join(landing_folder, os.path.relpath(root, dl_folder))\n",
    "                os.makedirs(subfolder, exist_ok=True)\n",
    "                df.to_csv(os.path.join(subfolder, filename), index=False)\n",
    "\n",
    "# Define folder paths\n",
    "dl_folder = '../bikestore_dim'\n",
    "landing_folder = '../Landing'\n",
    "\n",
    "# Process CSV files recursively\n",
    "process_csv_files_recursive(dl_folder, landing_folder)\n"
   ]
  },
  {
   "cell_type": "code",
   "execution_count": null,
   "id": "ad7e52b0",
   "metadata": {},
   "outputs": [],
   "source": []
  }
 ],
 "metadata": {
  "kernelspec": {
   "display_name": "Python 3 (ipykernel)",
   "language": "python",
   "name": "python3"
  },
  "language_info": {
   "codemirror_mode": {
    "name": "ipython",
    "version": 3
   },
   "file_extension": ".py",
   "mimetype": "text/x-python",
   "name": "python",
   "nbconvert_exporter": "python",
   "pygments_lexer": "ipython3",
   "version": "3.9.12"
  }
 },
 "nbformat": 4,
 "nbformat_minor": 5
}
