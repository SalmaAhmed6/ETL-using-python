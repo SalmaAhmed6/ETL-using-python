{
 "cells": [
  {
   "cell_type": "code",
   "execution_count": 1,
   "id": "72323579",
   "metadata": {},
   "outputs": [],
   "source": [
    "import pandas as pd"
   ]
  },
  {
   "cell_type": "code",
   "execution_count": 2,
   "id": "6189c3f9",
   "metadata": {},
   "outputs": [],
   "source": [
    "stores=pd.read_csv('../Landing/stores/stores.csv')"
   ]
  },
  {
   "cell_type": "code",
   "execution_count": 4,
   "id": "92fa1d1c",
   "metadata": {},
   "outputs": [
    {
     "data": {
      "text/html": [
       "<div>\n",
       "<style scoped>\n",
       "    .dataframe tbody tr th:only-of-type {\n",
       "        vertical-align: middle;\n",
       "    }\n",
       "\n",
       "    .dataframe tbody tr th {\n",
       "        vertical-align: top;\n",
       "    }\n",
       "\n",
       "    .dataframe thead th {\n",
       "        text-align: right;\n",
       "    }\n",
       "</style>\n",
       "<table border=\"1\" class=\"dataframe\">\n",
       "  <thead>\n",
       "    <tr style=\"text-align: right;\">\n",
       "      <th></th>\n",
       "      <th>store_id</th>\n",
       "      <th>store_name</th>\n",
       "      <th>phone</th>\n",
       "      <th>email</th>\n",
       "      <th>street</th>\n",
       "      <th>city</th>\n",
       "      <th>state</th>\n",
       "      <th>zip_code</th>\n",
       "      <th>Extract Time</th>\n",
       "      <th>Source</th>\n",
       "    </tr>\n",
       "  </thead>\n",
       "  <tbody>\n",
       "    <tr>\n",
       "      <th>0</th>\n",
       "      <td>1</td>\n",
       "      <td>Santa Cruz Bikes</td>\n",
       "      <td>(831) 476-4321</td>\n",
       "      <td>NaN</td>\n",
       "      <td>3700 Portola Drive</td>\n",
       "      <td>Santa Cruz</td>\n",
       "      <td>CA</td>\n",
       "      <td>NaN</td>\n",
       "      <td>2024-04-30 13:25:01.164185</td>\n",
       "      <td>datalake</td>\n",
       "    </tr>\n",
       "    <tr>\n",
       "      <th>1</th>\n",
       "      <td>2</td>\n",
       "      <td>Baldwin Bikes</td>\n",
       "      <td>(516) 379-8888</td>\n",
       "      <td>baldwin@bikes.shop</td>\n",
       "      <td>4200 Chestnut Lane</td>\n",
       "      <td>Baldwin</td>\n",
       "      <td>NY</td>\n",
       "      <td>11432.0</td>\n",
       "      <td>2024-04-30 13:25:01.164185</td>\n",
       "      <td>datalake</td>\n",
       "    </tr>\n",
       "    <tr>\n",
       "      <th>2</th>\n",
       "      <td>3</td>\n",
       "      <td>Rowlett Bikes</td>\n",
       "      <td>(972) 530-5555</td>\n",
       "      <td>rowlett@bikes.shop</td>\n",
       "      <td>8000 Fairway Avenue</td>\n",
       "      <td>Rowlett</td>\n",
       "      <td>TX</td>\n",
       "      <td>75088.0</td>\n",
       "      <td>2024-04-30 13:25:01.164185</td>\n",
       "      <td>datalake</td>\n",
       "    </tr>\n",
       "  </tbody>\n",
       "</table>\n",
       "</div>"
      ],
      "text/plain": [
       "   store_id        store_name           phone               email  \\\n",
       "0         1  Santa Cruz Bikes  (831) 476-4321                 NaN   \n",
       "1         2     Baldwin Bikes  (516) 379-8888  baldwin@bikes.shop   \n",
       "2         3     Rowlett Bikes  (972) 530-5555  rowlett@bikes.shop   \n",
       "\n",
       "                street        city state  zip_code  \\\n",
       "0   3700 Portola Drive  Santa Cruz    CA       NaN   \n",
       "1   4200 Chestnut Lane     Baldwin    NY   11432.0   \n",
       "2  8000 Fairway Avenue     Rowlett    TX   75088.0   \n",
       "\n",
       "                 Extract Time    Source  \n",
       "0  2024-04-30 13:25:01.164185  datalake  \n",
       "1  2024-04-30 13:25:01.164185  datalake  \n",
       "2  2024-04-30 13:25:01.164185  datalake  "
      ]
     },
     "execution_count": 4,
     "metadata": {},
     "output_type": "execute_result"
    }
   ],
   "source": [
    "stores.head()"
   ]
  },
  {
   "cell_type": "code",
   "execution_count": 5,
   "id": "7ae8b9ee",
   "metadata": {},
   "outputs": [
    {
     "name": "stdout",
     "output_type": "stream",
     "text": [
      "<class 'pandas.core.frame.DataFrame'>\n",
      "RangeIndex: 3 entries, 0 to 2\n",
      "Data columns (total 10 columns):\n",
      " #   Column        Non-Null Count  Dtype  \n",
      "---  ------        --------------  -----  \n",
      " 0   store_id      3 non-null      int64  \n",
      " 1   store_name    3 non-null      object \n",
      " 2   phone         3 non-null      object \n",
      " 3   email         2 non-null      object \n",
      " 4   street        3 non-null      object \n",
      " 5   city          3 non-null      object \n",
      " 6   state         3 non-null      object \n",
      " 7   zip_code      2 non-null      float64\n",
      " 8   Extract Time  3 non-null      object \n",
      " 9   Source        3 non-null      object \n",
      "dtypes: float64(1), int64(1), object(8)\n",
      "memory usage: 368.0+ bytes\n"
     ]
    }
   ],
   "source": [
    "stores.info()"
   ]
  },
  {
   "cell_type": "code",
   "execution_count": 7,
   "id": "d834cff8",
   "metadata": {},
   "outputs": [
    {
     "data": {
      "text/plain": [
       "store_id        0\n",
       "store_name      0\n",
       "phone           0\n",
       "email           1\n",
       "street          0\n",
       "city            0\n",
       "state           0\n",
       "zip_code        1\n",
       "Extract Time    0\n",
       "Source          0\n",
       "dtype: int64"
      ]
     },
     "execution_count": 7,
     "metadata": {},
     "output_type": "execute_result"
    }
   ],
   "source": [
    "stores.isnull().sum()\n",
    "#i think that the email and zip_code will casue no problem if i left themm null"
   ]
  },
  {
   "cell_type": "code",
   "execution_count": 9,
   "id": "afa86cf7",
   "metadata": {},
   "outputs": [
    {
     "name": "stdout",
     "output_type": "stream",
     "text": [
      "0\n"
     ]
    }
   ],
   "source": [
    "duplicate_count = stores.duplicated().sum()\n",
    "print(duplicate_count)"
   ]
  },
  {
   "cell_type": "code",
   "execution_count": 10,
   "id": "baa90b26",
   "metadata": {},
   "outputs": [
    {
     "name": "stdout",
     "output_type": "stream",
     "text": [
      "Subdirectory 'stores' created.\n",
      "CSV file saved successfully in the 'stores' subfolder within the '../staging_1' folder.\n"
     ]
    }
   ],
   "source": [
    "import os\n",
    "\n",
    "# Define the parent directory path\n",
    "parent_directory = '../staging_1'\n",
    "\n",
    "# Define the subdirectory path\n",
    "subdirectory = 'stores'\n",
    "\n",
    "# Create the parent directory if it doesn't exist\n",
    "if not os.path.exists(parent_directory):\n",
    "    os.makedirs(parent_directory)\n",
    "    print(f\"Parent directory '{parent_directory}' created.\")\n",
    "\n",
    "# Create the subdirectory if it doesn't exist\n",
    "if not os.path.exists(os.path.join(parent_directory, subdirectory)):\n",
    "    os.makedirs(os.path.join(parent_directory, subdirectory))\n",
    "    print(f\"Subdirectory '{subdirectory}' created.\")\n",
    "\n",
    "# Define the file path where you want to save the CSV file\n",
    "file_path = os.path.join(parent_directory, subdirectory, 'orders.csv')\n",
    "\n",
    "# Save the DataFrame as a CSV file\n",
    "stores.to_csv(file_path, index=False)\n",
    "\n",
    "print(f\"CSV file saved successfully in the '{subdirectory}' subfolder within the '{parent_directory}' folder.\")\n"
   ]
  },
  {
   "cell_type": "code",
   "execution_count": null,
   "id": "fd6a0ff5",
   "metadata": {},
   "outputs": [],
   "source": []
  }
 ],
 "metadata": {
  "kernelspec": {
   "display_name": "Python 3 (ipykernel)",
   "language": "python",
   "name": "python3"
  },
  "language_info": {
   "codemirror_mode": {
    "name": "ipython",
    "version": 3
   },
   "file_extension": ".py",
   "mimetype": "text/x-python",
   "name": "python",
   "nbconvert_exporter": "python",
   "pygments_lexer": "ipython3",
   "version": "3.9.12"
  }
 },
 "nbformat": 4,
 "nbformat_minor": 5
}
