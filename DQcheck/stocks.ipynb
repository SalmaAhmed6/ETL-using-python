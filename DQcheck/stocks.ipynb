{
 "cells": [
  {
   "cell_type": "code",
   "execution_count": 1,
   "id": "93cd2b65",
   "metadata": {},
   "outputs": [],
   "source": [
    "import pandas as pd"
   ]
  },
  {
   "cell_type": "code",
   "execution_count": 2,
   "id": "648ae487",
   "metadata": {},
   "outputs": [],
   "source": [
    "stocks =pd.read_csv('../Landing/stocks/stocks.csv')"
   ]
  },
  {
   "cell_type": "code",
   "execution_count": 3,
   "id": "9e87f814",
   "metadata": {},
   "outputs": [
    {
     "data": {
      "text/plain": [
       "store_id        0\n",
       "product_id      0\n",
       "quantity        0\n",
       "Extract Time    0\n",
       "Source          0\n",
       "dtype: int64"
      ]
     },
     "execution_count": 3,
     "metadata": {},
     "output_type": "execute_result"
    }
   ],
   "source": [
    "stocks.isnull().sum()"
   ]
  },
  {
   "cell_type": "code",
   "execution_count": 4,
   "id": "d0e8784f",
   "metadata": {},
   "outputs": [
    {
     "data": {
      "text/html": [
       "<div>\n",
       "<style scoped>\n",
       "    .dataframe tbody tr th:only-of-type {\n",
       "        vertical-align: middle;\n",
       "    }\n",
       "\n",
       "    .dataframe tbody tr th {\n",
       "        vertical-align: top;\n",
       "    }\n",
       "\n",
       "    .dataframe thead th {\n",
       "        text-align: right;\n",
       "    }\n",
       "</style>\n",
       "<table border=\"1\" class=\"dataframe\">\n",
       "  <thead>\n",
       "    <tr style=\"text-align: right;\">\n",
       "      <th></th>\n",
       "      <th>store_id</th>\n",
       "      <th>product_id</th>\n",
       "      <th>quantity</th>\n",
       "      <th>Extract Time</th>\n",
       "      <th>Source</th>\n",
       "    </tr>\n",
       "  </thead>\n",
       "  <tbody>\n",
       "    <tr>\n",
       "      <th>0</th>\n",
       "      <td>1</td>\n",
       "      <td>1</td>\n",
       "      <td>27</td>\n",
       "      <td>2024-04-30 13:25:01.194061</td>\n",
       "      <td>datalake</td>\n",
       "    </tr>\n",
       "    <tr>\n",
       "      <th>1</th>\n",
       "      <td>1</td>\n",
       "      <td>2</td>\n",
       "      <td>5</td>\n",
       "      <td>2024-04-30 13:25:01.194061</td>\n",
       "      <td>datalake</td>\n",
       "    </tr>\n",
       "    <tr>\n",
       "      <th>2</th>\n",
       "      <td>1</td>\n",
       "      <td>3</td>\n",
       "      <td>6</td>\n",
       "      <td>2024-04-30 13:25:01.194061</td>\n",
       "      <td>datalake</td>\n",
       "    </tr>\n",
       "    <tr>\n",
       "      <th>3</th>\n",
       "      <td>1</td>\n",
       "      <td>4</td>\n",
       "      <td>23</td>\n",
       "      <td>2024-04-30 13:25:01.194061</td>\n",
       "      <td>datalake</td>\n",
       "    </tr>\n",
       "    <tr>\n",
       "      <th>4</th>\n",
       "      <td>1</td>\n",
       "      <td>5</td>\n",
       "      <td>22</td>\n",
       "      <td>2024-04-30 13:25:01.194061</td>\n",
       "      <td>datalake</td>\n",
       "    </tr>\n",
       "  </tbody>\n",
       "</table>\n",
       "</div>"
      ],
      "text/plain": [
       "   store_id  product_id  quantity                Extract Time    Source\n",
       "0         1           1        27  2024-04-30 13:25:01.194061  datalake\n",
       "1         1           2         5  2024-04-30 13:25:01.194061  datalake\n",
       "2         1           3         6  2024-04-30 13:25:01.194061  datalake\n",
       "3         1           4        23  2024-04-30 13:25:01.194061  datalake\n",
       "4         1           5        22  2024-04-30 13:25:01.194061  datalake"
      ]
     },
     "execution_count": 4,
     "metadata": {},
     "output_type": "execute_result"
    }
   ],
   "source": [
    "stocks.head()"
   ]
  },
  {
   "cell_type": "code",
   "execution_count": 5,
   "id": "e788a5d9",
   "metadata": {},
   "outputs": [
    {
     "name": "stdout",
     "output_type": "stream",
     "text": [
      "0\n"
     ]
    }
   ],
   "source": [
    "duplicate_count = stocks.duplicated().sum()\n",
    "print(duplicate_count)"
   ]
  },
  {
   "cell_type": "code",
   "execution_count": 6,
   "id": "eb0e6e6a",
   "metadata": {},
   "outputs": [
    {
     "name": "stdout",
     "output_type": "stream",
     "text": [
      "CSV file saved successfully in the 'stocks' subfolder within the '../staging_1' folder.\n"
     ]
    }
   ],
   "source": [
    "import os\n",
    "\n",
    "# Define the parent directory path\n",
    "parent_directory = '../staging_1'\n",
    "\n",
    "# Define the subdirectory path\n",
    "subdirectory = 'stocks'\n",
    "\n",
    "# Create the parent directory if it doesn't exist\n",
    "if not os.path.exists(parent_directory):\n",
    "    os.makedirs(parent_directory)\n",
    "    print(f\"Parent directory '{parent_directory}' created.\")\n",
    "\n",
    "# Create the subdirectory if it doesn't exist\n",
    "if not os.path.exists(os.path.join(parent_directory, subdirectory)):\n",
    "    os.makedirs(os.path.join(parent_directory, subdirectory))\n",
    "    print(f\"Subdirectory '{subdirectory}' created.\")\n",
    "\n",
    "# Define the file path where you want to save the CSV file\n",
    "file_path = os.path.join(parent_directory, subdirectory, 'stocks.csv')\n",
    "\n",
    "# Save the DataFrame as a CSV file\n",
    "stocks.to_csv(file_path, index=False)\n",
    "\n",
    "print(f\"CSV file saved successfully in the '{subdirectory}' subfolder within the '{parent_directory}' folder.\")\n"
   ]
  },
  {
   "cell_type": "code",
   "execution_count": null,
   "id": "be80a463",
   "metadata": {},
   "outputs": [],
   "source": []
  }
 ],
 "metadata": {
  "kernelspec": {
   "display_name": "Python 3 (ipykernel)",
   "language": "python",
   "name": "python3"
  },
  "language_info": {
   "codemirror_mode": {
    "name": "ipython",
    "version": 3
   },
   "file_extension": ".py",
   "mimetype": "text/x-python",
   "name": "python",
   "nbconvert_exporter": "python",
   "pygments_lexer": "ipython3",
   "version": "3.9.12"
  }
 },
 "nbformat": 4,
 "nbformat_minor": 5
}
