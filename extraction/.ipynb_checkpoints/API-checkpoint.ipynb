{
 "cells": [
  {
   "cell_type": "code",
   "execution_count": 2,
   "id": "dfa7167c",
   "metadata": {},
   "outputs": [],
   "source": [
    "import requests\n",
    "import os\n",
    "import pandas as pd\n",
    "from datetime import datetime\n",
    "\n",
    "# Function to fetch exchange rate for EGP from API\n",
    "def fetch_egp_exchange_rate():\n",
    "    response = requests.get('https://openexchangerates.org/api/latest.json',params={'app_id':'0cf4c35eccf74b94bdffbc88a7ad8464'})\n",
    "    response = response.json()\n",
    "    data = pd.json_normalize(response)\n",
    "    data.rename(columns=lambda x: x.split('.')[1] if '.' in x else x, inplace=True)\n",
    "    egp_rate = data[\"EGP\"]\n",
    "    timestamp = datetime.now()\n",
    "    return egp_rate, timestamp\n",
    "\n",
    "# Function to save exchange rate and timestamp to CSV\n",
    "def save_to_csv(egp_rate, timestamp, landing_folder, source):\n",
    "    data = pd.DataFrame({\"Timestamp\": [timestamp], \"EGP Rate\": [egp_rate[0]], \"Source\": [source]})\n",
    "    subfolder = os.path.join(landing_folder, \"exchange\")\n",
    "    os.makedirs(subfolder, exist_ok=True)\n",
    "    file_path = os.path.join(subfolder, \"exchange.csv\")\n",
    "    data.to_csv(file_path, index=False)\n",
    "\n",
    "# Define folder path\n",
    "landing_folder = \"../Landing\"\n",
    "source = \"API\"\n",
    "\n",
    "# Fetch EGP exchange rate and timestamp\n",
    "egp_rate, timestamp = fetch_egp_exchange_rate()\n",
    "\n",
    "# Save to CSV\n",
    "save_to_csv(egp_rate, timestamp, landing_folder, source)\n"
   ]
  },
  {
   "cell_type": "code",
   "execution_count": null,
   "id": "00f60482",
   "metadata": {},
   "outputs": [],
   "source": []
  }
 ],
 "metadata": {
  "kernelspec": {
   "display_name": "Python 3 (ipykernel)",
   "language": "python",
   "name": "python3"
  },
  "language_info": {
   "codemirror_mode": {
    "name": "ipython",
    "version": 3
   },
   "file_extension": ".py",
   "mimetype": "text/x-python",
   "name": "python",
   "nbconvert_exporter": "python",
   "pygments_lexer": "ipython3",
   "version": "3.9.12"
  }
 },
 "nbformat": 4,
 "nbformat_minor": 5
}
