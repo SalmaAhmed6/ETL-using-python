{
 "cells": [
  {
   "cell_type": "code",
   "execution_count": 1,
   "id": "a8f0e95c",
   "metadata": {},
   "outputs": [],
   "source": [
    "import pandas as pd"
   ]
  },
  {
   "cell_type": "code",
   "execution_count": 2,
   "id": "93f7a914",
   "metadata": {},
   "outputs": [],
   "source": [
    "customers=pd.read_csv('../Landing/customers/customers.csv')"
   ]
  },
  {
   "cell_type": "code",
   "execution_count": 3,
   "id": "635f660c",
   "metadata": {},
   "outputs": [
    {
     "data": {
      "text/html": [
       "<div>\n",
       "<style scoped>\n",
       "    .dataframe tbody tr th:only-of-type {\n",
       "        vertical-align: middle;\n",
       "    }\n",
       "\n",
       "    .dataframe tbody tr th {\n",
       "        vertical-align: top;\n",
       "    }\n",
       "\n",
       "    .dataframe thead th {\n",
       "        text-align: right;\n",
       "    }\n",
       "</style>\n",
       "<table border=\"1\" class=\"dataframe\">\n",
       "  <thead>\n",
       "    <tr style=\"text-align: right;\">\n",
       "      <th></th>\n",
       "      <th>customer_id</th>\n",
       "      <th>first_name</th>\n",
       "      <th>last_name</th>\n",
       "      <th>phone</th>\n",
       "      <th>email</th>\n",
       "      <th>street</th>\n",
       "      <th>city</th>\n",
       "      <th>state</th>\n",
       "      <th>zip_code</th>\n",
       "      <th>Extract Time</th>\n",
       "      <th>Source</th>\n",
       "    </tr>\n",
       "  </thead>\n",
       "  <tbody>\n",
       "    <tr>\n",
       "      <th>0</th>\n",
       "      <td>1</td>\n",
       "      <td>Debra</td>\n",
       "      <td>Burks</td>\n",
       "      <td>NaN</td>\n",
       "      <td>debra.burks@yahoo.com</td>\n",
       "      <td>9273 Thorne Ave.</td>\n",
       "      <td>Orchard Park</td>\n",
       "      <td>NY</td>\n",
       "      <td>14127</td>\n",
       "      <td>2024-04-30 13:25:01.229172</td>\n",
       "      <td>datalake</td>\n",
       "    </tr>\n",
       "    <tr>\n",
       "      <th>1</th>\n",
       "      <td>2</td>\n",
       "      <td>Kasha</td>\n",
       "      <td>Todd</td>\n",
       "      <td>NaN</td>\n",
       "      <td>kasha.todd@yahoo.com</td>\n",
       "      <td>910 Vine Street</td>\n",
       "      <td>Campbell</td>\n",
       "      <td>CA</td>\n",
       "      <td>95008</td>\n",
       "      <td>2024-04-30 13:25:01.229172</td>\n",
       "      <td>datalake</td>\n",
       "    </tr>\n",
       "    <tr>\n",
       "      <th>2</th>\n",
       "      <td>3</td>\n",
       "      <td>Tameka</td>\n",
       "      <td>Fisher</td>\n",
       "      <td>NaN</td>\n",
       "      <td>tameka.fisher@aol.com</td>\n",
       "      <td>769C Honey Creek St.</td>\n",
       "      <td>Redondo Beach</td>\n",
       "      <td>CA</td>\n",
       "      <td>90278</td>\n",
       "      <td>2024-04-30 13:25:01.229172</td>\n",
       "      <td>datalake</td>\n",
       "    </tr>\n",
       "    <tr>\n",
       "      <th>3</th>\n",
       "      <td>4</td>\n",
       "      <td>Daryl</td>\n",
       "      <td>Spence</td>\n",
       "      <td>NaN</td>\n",
       "      <td>daryl.spence@aol.com</td>\n",
       "      <td>988 Pearl Lane</td>\n",
       "      <td>Uniondale</td>\n",
       "      <td>NY</td>\n",
       "      <td>11553</td>\n",
       "      <td>2024-04-30 13:25:01.229172</td>\n",
       "      <td>datalake</td>\n",
       "    </tr>\n",
       "    <tr>\n",
       "      <th>4</th>\n",
       "      <td>5</td>\n",
       "      <td>Charolette</td>\n",
       "      <td>Rice</td>\n",
       "      <td>(916) 381-6003</td>\n",
       "      <td>charolette.rice@msn.com</td>\n",
       "      <td>107 River Dr.</td>\n",
       "      <td>Sacramento</td>\n",
       "      <td>CA</td>\n",
       "      <td>95820</td>\n",
       "      <td>2024-04-30 13:25:01.229172</td>\n",
       "      <td>datalake</td>\n",
       "    </tr>\n",
       "  </tbody>\n",
       "</table>\n",
       "</div>"
      ],
      "text/plain": [
       "   customer_id  first_name last_name           phone                    email  \\\n",
       "0            1       Debra     Burks             NaN    debra.burks@yahoo.com   \n",
       "1            2       Kasha      Todd             NaN     kasha.todd@yahoo.com   \n",
       "2            3      Tameka    Fisher             NaN    tameka.fisher@aol.com   \n",
       "3            4       Daryl    Spence             NaN     daryl.spence@aol.com   \n",
       "4            5  Charolette      Rice  (916) 381-6003  charolette.rice@msn.com   \n",
       "\n",
       "                  street           city state  zip_code  \\\n",
       "0      9273 Thorne Ave.    Orchard Park    NY     14127   \n",
       "1       910 Vine Street        Campbell    CA     95008   \n",
       "2  769C Honey Creek St.   Redondo Beach    CA     90278   \n",
       "3        988 Pearl Lane       Uniondale    NY     11553   \n",
       "4         107 River Dr.      Sacramento    CA     95820   \n",
       "\n",
       "                 Extract Time    Source  \n",
       "0  2024-04-30 13:25:01.229172  datalake  \n",
       "1  2024-04-30 13:25:01.229172  datalake  \n",
       "2  2024-04-30 13:25:01.229172  datalake  \n",
       "3  2024-04-30 13:25:01.229172  datalake  \n",
       "4  2024-04-30 13:25:01.229172  datalake  "
      ]
     },
     "execution_count": 3,
     "metadata": {},
     "output_type": "execute_result"
    }
   ],
   "source": [
    "customers.head()"
   ]
  },
  {
   "cell_type": "code",
   "execution_count": 4,
   "id": "7bd0796a",
   "metadata": {},
   "outputs": [
    {
     "name": "stdout",
     "output_type": "stream",
     "text": [
      "0\n"
     ]
    }
   ],
   "source": [
    "duplicate_count = customers.duplicated().sum()\n",
    "print(duplicate_count)"
   ]
  },
  {
   "cell_type": "code",
   "execution_count": 5,
   "id": "67f7242f",
   "metadata": {},
   "outputs": [
    {
     "data": {
      "text/plain": [
       "customer_id        0\n",
       "first_name         0\n",
       "last_name          0\n",
       "phone           1267\n",
       "email              0\n",
       "street             0\n",
       "city               0\n",
       "state              0\n",
       "zip_code           0\n",
       "Extract Time       0\n",
       "Source             0\n",
       "dtype: int64"
      ]
     },
     "execution_count": 5,
     "metadata": {},
     "output_type": "execute_result"
    }
   ],
   "source": [
    "customers.isnull().sum()\n"
   ]
  },
  {
   "cell_type": "code",
   "execution_count": 6,
   "id": "7a0b88e3",
   "metadata": {},
   "outputs": [
    {
     "data": {
      "text/plain": [
       "(1445, 11)"
      ]
     },
     "execution_count": 6,
     "metadata": {},
     "output_type": "execute_result"
    }
   ],
   "source": [
    "customers.shape"
   ]
  },
  {
   "cell_type": "code",
   "execution_count": 7,
   "id": "4cb9d73d",
   "metadata": {},
   "outputs": [],
   "source": [
    "customers.drop(columns=['phone'], inplace=True)"
   ]
  },
  {
   "cell_type": "code",
   "execution_count": 8,
   "id": "e819f8ad",
   "metadata": {},
   "outputs": [
    {
     "data": {
      "text/plain": [
       "'\\ni dropped the phone column due to its high number of missing values\\n(1267 out of 1445 total entries) and its non-critical role in our analysis.\\nThis simplifies our dataset and ensures that missing values do not compromise our results.\"'"
      ]
     },
     "execution_count": 8,
     "metadata": {},
     "output_type": "execute_result"
    }
   ],
   "source": [
    "'''\n",
    "i dropped the phone column due to its high number of missing values\n",
    "(1267 out of 1445 total entries) and its non-critical role in our analysis.\n",
    "This simplifies our dataset and ensures that missing values do not compromise our results.\"'''"
   ]
  },
  {
   "cell_type": "code",
   "execution_count": 9,
   "id": "a530b06f",
   "metadata": {},
   "outputs": [
    {
     "name": "stdout",
     "output_type": "stream",
     "text": [
      "CSV file saved successfully in the 'customers' subfolder within the '../staging_1' folder.\n"
     ]
    }
   ],
   "source": [
    "import os\n",
    "\n",
    "# Define the parent directory path\n",
    "parent_directory = '../staging_1'\n",
    "\n",
    "# Define the subdirectory path\n",
    "subdirectory = 'customers'\n",
    "\n",
    "# Create the parent directory if it doesn't exist\n",
    "if not os.path.exists(parent_directory):\n",
    "    os.makedirs(parent_directory)\n",
    "    print(f\"Parent directory '{parent_directory}' created.\")\n",
    "\n",
    "# Create the subdirectory if it doesn't exist\n",
    "if not os.path.exists(os.path.join(parent_directory, subdirectory)):\n",
    "    os.makedirs(os.path.join(parent_directory, subdirectory))\n",
    "    print(f\"Subdirectory '{subdirectory}' created.\")\n",
    "\n",
    "# Define the file path where you want to save the CSV file\n",
    "file_path = os.path.join(parent_directory, subdirectory, 'customers.csv')\n",
    "\n",
    "# Save the DataFrame as a CSV file\n",
    "customers.to_csv(file_path, index=False)\n",
    "\n",
    "print(f\"CSV file saved successfully in the '{subdirectory}' subfolder within the '{parent_directory}' folder.\")\n"
   ]
  },
  {
   "cell_type": "code",
   "execution_count": null,
   "id": "aa6f0e25",
   "metadata": {},
   "outputs": [],
   "source": []
  }
 ],
 "metadata": {
  "kernelspec": {
   "display_name": "Python 3 (ipykernel)",
   "language": "python",
   "name": "python3"
  },
  "language_info": {
   "codemirror_mode": {
    "name": "ipython",
    "version": 3
   },
   "file_extension": ".py",
   "mimetype": "text/x-python",
   "name": "python",
   "nbconvert_exporter": "python",
   "pygments_lexer": "ipython3",
   "version": "3.9.12"
  }
 },
 "nbformat": 4,
 "nbformat_minor": 5
}
